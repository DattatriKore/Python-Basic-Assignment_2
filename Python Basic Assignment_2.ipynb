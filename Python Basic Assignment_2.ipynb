{
 "cells": [
  {
   "cell_type": "markdown",
   "id": "c97e97a6",
   "metadata": {},
   "source": [
    "Q.[1] : What are the two values of the Boolean data type? How do you write them?\n",
    "    \n",
    "Ans:- The two boolean values in python are True and False\n",
    "    - They are written as \n",
    "    - boolA =True\n",
    "    - boolB = False"
   ]
  },
  {
   "cell_type": "markdown",
   "id": "c78dab9a",
   "metadata": {},
   "source": [
    "Q.[2] : What are the three different types of Boolean operators?\n",
    "\n",
    "Ans:- There are mainly three types of Boolean operators in python\n",
    "    - they are\n",
    "    - logical AND\n",
    "    - logical OR \n",
    "    - logical NOT. \n",
    "    - They are used in the code as and,or and not"
   ]
  },
  {
   "cell_type": "markdown",
   "id": "a5280811",
   "metadata": {},
   "source": [
    "Q.[3] : Make a list of each Boolean operator truth tables (i.e. every possible combination of Boolean\n",
    "        values for the operator and what it evaluate ).\n",
    "        \n",
    "Ans:- "
   ]
  },
  {
   "cell_type": "code",
   "execution_count": 12,
   "id": "73d0da13",
   "metadata": {},
   "outputs": [
    {
     "name": "stdout",
     "output_type": "stream",
     "text": [
      "\n",
      "The AND Operator Truth Table\n",
      " A  B AandB\n",
      "[0, 0, 0]\n",
      "[0, 1, 0]\n",
      "[1, 0, 0]\n",
      "[1, 1, 1]\n",
      "\n",
      "The OR Operator Truth Table\n",
      " A  B AorB\n",
      "[0, 0, 0]\n",
      "[0, 1, 1]\n",
      "[1, 0, 1]\n",
      "[1, 1, 1]\n",
      "\n",
      " The NOT Opearator Truth Table\n",
      " A notA\n",
      "[0, 1]\n",
      "[1, 0]\n"
     ]
    }
   ],
   "source": [
    "And_List = [[0,0,0],[0,1,0],[1,0,0],[1,1,1]]\n",
    "\n",
    "print(\"\\nThe AND Operator Truth Table\")\n",
    "print(\" A  B AandB\")\n",
    "for i in And_List:\n",
    "    print(i)\n",
    "    \n",
    "Or_List = [[0,0,0],[0,1,1],[1,0,1],[1,1,1]]\n",
    "\n",
    "print(\"\\nThe OR Operator Truth Table\")\n",
    "print(\" A  B AorB\")\n",
    "\n",
    "for i in Or_List:\n",
    "    print(i)\n",
    "    \n",
    "Not_List = [[0,1],[1,0]]\n",
    "\n",
    "print(\"\\n The NOT Opearator Truth Table\")\n",
    "print(\" A notA\")\n",
    "\n",
    "for i in Not_List:\n",
    "    print(i)"
   ]
  },
  {
   "cell_type": "markdown",
   "id": "8b4246db",
   "metadata": {},
   "source": [
    "Q.[4] : What are the values of the following expressions?\n",
    "       (5>4) and (3 == 5)\n",
    "       not(5>4)\n",
    "       (5>4) or (3 == 5)\n",
    "       not ((5>4) or (3 == 5))\n",
    "       (True and True) and (True == False)\n",
    "       (not False) or (not True)\n",
    "\n",
    "Ans:- - (5 > 4) and (3 == 5)  - > True and False = False\n",
    "      - not (5 > 4) -> not(True) = False\n",
    "      - (5 > 4) or (3 == 5) -> True or False = True\n",
    "      - not ((5 > 4) or (3 == 5)) -> not(True) - >False\n",
    "      - (True and True) and (True == False) - > (True) and (False) = False\n",
    "      - (not False) or (not True) -> True or False = True"
   ]
  },
  {
   "cell_type": "markdown",
   "id": "3bfa5e86",
   "metadata": {},
   "source": [
    "Q.[5] : What are the six comparison operators?\n",
    "\n",
    "Ans:- Following are 6 comparision operator in Python\n",
    "     == -> Equal To\n",
    "     != -> Not Equal\n",
    "      > -> Greater Than\n",
    "      < -> Less Than\n",
    "     >= -> Greater Than or Equal To\n",
    "     <= -> Less Than or Equal To"
   ]
  },
  {
   "cell_type": "markdown",
   "id": "9f49da55",
   "metadata": {},
   "source": [
    "Q.[6] : How do you tell the difference between the equal to and assignment operators? Describe a condition and when you             would use one.\n",
    "\n",
    "Ans:- Assignment operator \"=\"\n",
    "      It is an assignment operator.\n",
    "      It is used for assigning the value to a variable.\n",
    "      Example a = 10, str = \"Dattatri\"\n",
    "   \n",
    "      Equal to Operator \"==\"\n",
    "      It is a relational or comparison operator\n",
    "      It is used for comparing two values. It returns 1 if both the values are equal otherwise returns 0.\n",
    "      Example: 1==1 is valid and returns 1."
   ]
  },
  {
   "cell_type": "code",
   "execution_count": 13,
   "id": "f041e3ee",
   "metadata": {},
   "outputs": [
    {
     "name": "stdout",
     "output_type": "stream",
     "text": [
      "True\n"
     ]
    }
   ],
   "source": [
    "x = 20\n",
    "y = 20\n",
    "\n",
    "if x == y:\n",
    "    print(\"True\")\n",
    "else:\n",
    "    print(\"False\")"
   ]
  },
  {
   "cell_type": "markdown",
   "id": "a368adda",
   "metadata": {},
   "source": [
    "Q.[7] : Identify the three blocks in this code:\n",
    "\n",
    "spam = 0  \n",
    "\n",
    "if spam == 10:\n",
    "    print(\"eggs\")  \n",
    "\n",
    "if spam > 5:\n",
    "    print(\"bacon\")\n",
    "else:\n",
    "    print(\"ham\")\n",
    "    print(\"spam\")\n",
    "    print(\"spam\")"
   ]
  },
  {
   "cell_type": "code",
   "execution_count": 14,
   "id": "9c7a0016",
   "metadata": {},
   "outputs": [
    {
     "name": "stdout",
     "output_type": "stream",
     "text": [
      "ham\n",
      "spam\n",
      "spam\n"
     ]
    }
   ],
   "source": [
    "spam = 0\n",
    "\n",
    "if spam == 10:\n",
    "    print(\"eggs\")\n",
    "\n",
    "if spam > 5:\n",
    "    print(\"bacon\")\n",
    "\n",
    "else:\n",
    "    print(\"ham\")\n",
    "    print(\"spam\")\n",
    "    print(\"spam\")"
   ]
  },
  {
   "cell_type": "markdown",
   "id": "f6662c88",
   "metadata": {},
   "source": [
    "Q.[8] : Write code that prints Hello if 1 is stored in spam, prints Howdy if 2 is stored in spam, and prints Greetings! if         anything else is stored in spam.\n",
    "\n",
    "Ans:- "
   ]
  },
  {
   "cell_type": "code",
   "execution_count": 16,
   "id": "e49c9150",
   "metadata": {},
   "outputs": [
    {
     "name": "stdout",
     "output_type": "stream",
     "text": [
      "Enter spam value: 20\n",
      "Greetings!\n"
     ]
    }
   ],
   "source": [
    "spam = int(input(\"Enter spam value: \"))\n",
    "\n",
    "if spam == 1 :\n",
    "    print(\"Hello\")\n",
    "elif spam == 2:\n",
    "    print(\"Howdy\")\n",
    "else:\n",
    "    print(\"Greetings!\")"
   ]
  },
  {
   "cell_type": "markdown",
   "id": "56f0dd5a",
   "metadata": {},
   "source": [
    "Q.[9] : If your programme is stuck in an endless loop, what keys you’ll press?\n",
    "\n",
    "Ans:- Press CTRL + c to exit from a infinite loop"
   ]
  },
  {
   "cell_type": "markdown",
   "id": "3f90dbf8",
   "metadata": {},
   "source": [
    "Q.[10] : How can you tell the difference between break and continue?\n",
    "\n",
    "Ans:- Break Statement : \n",
    "      Break statements exist in Python to exit or “break” a for or while conditional loop. When the loop ends, the code           picks upfrom and executes the next line immediately following the loop that was broken\n",
    "\n",
    "      Continue Statement:\n",
    "      The continue statement is used to skip code within a loop for certain iterations of the loop. After the code is, the       loop continues where it left off"
   ]
  },
  {
   "cell_type": "code",
   "execution_count": 17,
   "id": "f1eb84d7",
   "metadata": {},
   "outputs": [
    {
     "name": "stdout",
     "output_type": "stream",
     "text": [
      "0\n",
      "1\n",
      "2\n",
      "3\n"
     ]
    }
   ],
   "source": [
    "# break example\n",
    "\n",
    "count = 0\n",
    "\n",
    "while count <= 20:\n",
    "    print (count)\n",
    "    count = count + 1\n",
    "    if count == 4:\n",
    "        break"
   ]
  },
  {
   "cell_type": "code",
   "execution_count": 18,
   "id": "feb1c86e",
   "metadata": {},
   "outputs": [
    {
     "name": "stdout",
     "output_type": "stream",
     "text": [
      "0\n",
      "1\n",
      "2\n",
      "3\n",
      "5\n"
     ]
    }
   ],
   "source": [
    "# continue example\n",
    "\n",
    "for i in range(0, 6):\n",
    "    if i == 4:\n",
    "        continue\n",
    "    print(i)"
   ]
  },
  {
   "cell_type": "markdown",
   "id": "00859f28",
   "metadata": {},
   "source": [
    "Q.[11] : In a for loop, what is the difference between range(10), range(0, 10), and range(0, 10, 1)?\n",
    "\n",
    "Ans:-  There is no difference in the range(10), range(0,10) and range(0,10,1). range by default takes 0 as starting point          and 1 as by default increment."
   ]
  },
  {
   "cell_type": "code",
   "execution_count": 19,
   "id": "0d18d85e",
   "metadata": {},
   "outputs": [
    {
     "name": "stdout",
     "output_type": "stream",
     "text": [
      "0\n",
      "1\n",
      "2\n",
      "3\n",
      "4\n",
      "5\n",
      "6\n",
      "7\n",
      "8\n",
      "9\n"
     ]
    }
   ],
   "source": [
    "for i in range(10):\n",
    "    print(i)"
   ]
  },
  {
   "cell_type": "code",
   "execution_count": 20,
   "id": "3de67e8d",
   "metadata": {},
   "outputs": [
    {
     "name": "stdout",
     "output_type": "stream",
     "text": [
      "0\n",
      "1\n",
      "2\n",
      "3\n",
      "4\n",
      "5\n",
      "6\n",
      "7\n",
      "8\n",
      "9\n"
     ]
    }
   ],
   "source": [
    "for i in range(0,10):\n",
    "    print(i)"
   ]
  },
  {
   "cell_type": "code",
   "execution_count": 21,
   "id": "3890e1ef",
   "metadata": {},
   "outputs": [
    {
     "name": "stdout",
     "output_type": "stream",
     "text": [
      "0\n",
      "1\n",
      "2\n",
      "3\n",
      "4\n",
      "5\n",
      "6\n",
      "7\n",
      "8\n",
      "9\n"
     ]
    }
   ],
   "source": [
    "for i in range(0,10,1):\n",
    "    print(i)"
   ]
  },
  {
   "cell_type": "markdown",
   "id": "fe553eae",
   "metadata": {},
   "source": [
    "Q.[12] : Write a short program that prints the numbers 1 to 10 using a for loop. Then write an equivalent program that              prints the numbers 1 to 10 using a while loop.\n",
    "\n",
    "Ans:- "
   ]
  },
  {
   "cell_type": "code",
   "execution_count": 22,
   "id": "c3720445",
   "metadata": {},
   "outputs": [
    {
     "name": "stdout",
     "output_type": "stream",
     "text": [
      "1\n",
      "2\n",
      "3\n",
      "4\n",
      "5\n",
      "6\n",
      "7\n",
      "8\n",
      "9\n",
      "10\n"
     ]
    }
   ],
   "source": [
    "# for loop Example\n",
    "\n",
    "for i in range(1,10+1):\n",
    "    print(i)"
   ]
  },
  {
   "cell_type": "code",
   "execution_count": 23,
   "id": "1e12fce9",
   "metadata": {},
   "outputs": [
    {
     "name": "stdout",
     "output_type": "stream",
     "text": [
      "1\n",
      "2\n",
      "3\n",
      "4\n",
      "5\n",
      "6\n",
      "7\n",
      "8\n",
      "9\n",
      "10\n"
     ]
    }
   ],
   "source": [
    "count = 1\n",
    "\n",
    "while count <= 10:\n",
    "    print(count)\n",
    "    count = count + 1"
   ]
  },
  {
   "cell_type": "markdown",
   "id": "c0051d7c",
   "metadata": {},
   "source": [
    "Q.[13] : If you had a function named bacon() inside a module named spam, how would you call it after importing spam?\n",
    "\n",
    "Ans:- import spam\n",
    "      a = spam.bacon()"
   ]
  }
 ],
 "metadata": {
  "kernelspec": {
   "display_name": "Python 3 (ipykernel)",
   "language": "python",
   "name": "python3"
  },
  "language_info": {
   "codemirror_mode": {
    "name": "ipython",
    "version": 3
   },
   "file_extension": ".py",
   "mimetype": "text/x-python",
   "name": "python",
   "nbconvert_exporter": "python",
   "pygments_lexer": "ipython3",
   "version": "3.9.12"
  }
 },
 "nbformat": 4,
 "nbformat_minor": 5
}
